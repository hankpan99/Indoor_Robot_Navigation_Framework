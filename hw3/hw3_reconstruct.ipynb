{
 "cells": [
  {
   "cell_type": "code",
   "execution_count": 22,
   "metadata": {},
   "outputs": [
    {
     "name": "stdout",
     "output_type": "stream",
     "text": [
      "The history saving thread hit an unexpected error (OperationalError('attempt to write a readonly database',)).History will not be written to the database.\n"
     ]
    }
   ],
   "source": [
    "import os\n",
    "import open3d as o3d\n",
    "import numpy as np\n",
    "from scipy.spatial import distance\n",
    "import matplotlib.pyplot as plt\n",
    "import quaternion"
   ]
  },
  {
   "cell_type": "code",
   "execution_count": 23,
   "metadata": {},
   "outputs": [],
   "source": [
    "\"\"\"data processing\"\"\"\n",
    "def load_point_clouds():\n",
    "    tmp_points = np.load('./data/point_cloud/test_v1/coordinates.npy')  # 270w points\n",
    "    tmp_colors = np.load('./data/point_cloud/test_v1/colors.npy')\n",
    "\n",
    "    tmp_down = o3d.geometry.PointCloud()\n",
    "    tmp_down.points = o3d.utility.Vector3dVector(tmp_points)\n",
    "    tmp_down.colors = o3d.utility.Vector3dVector(tmp_colors)\n",
    "\n",
    "    return tmp_down\n",
    "\n",
    "pcd_combined_down = load_point_clouds()"
   ]
  },
  {
   "cell_type": "code",
   "execution_count": 24,
   "metadata": {},
   "outputs": [
    {
     "name": "stdout",
     "output_type": "stream",
     "text": [
      "\n",
      "showing 2D result\n"
     ]
    }
   ],
   "source": [
    "\"\"\"show 2D result\"\"\"\n",
    "def transform_3D_to_2D(source):\n",
    "    points = np.asarray(source.points)\n",
    "    colors = np.asarray(source.colors)\n",
    "    x = points[:, 0]\n",
    "    y = points[:, 1]\n",
    "    z = points[:, 2]\n",
    "    r = colors[:, 0]\n",
    "    g = colors[:, 1]\n",
    "    b = colors[:, 2]\n",
    "\n",
    "    lower_bound = min(y) + 0.015\n",
    "    upper_bound = max(y) - 0.07\n",
    "\n",
    "    valid = y < upper_bound\n",
    "    \n",
    "    X = x[valid]\n",
    "    Y = y[valid]\n",
    "    Z = z[valid]\n",
    "    R = r[valid]\n",
    "    G = g[valid]\n",
    "    B = b[valid]\n",
    "\n",
    "    valid_2=Y > lower_bound\n",
    "\n",
    "    X = X[valid_2]\n",
    "    Y = Y[valid_2]\n",
    "    Z = Z[valid_2]\n",
    "    R = R[valid_2]\n",
    "    G = G[valid_2]\n",
    "    B = B[valid_2]\n",
    "    \n",
    "    position = np.transpose(np.vstack((\n",
    "        X,\n",
    "        Y,\n",
    "        Z,\n",
    "    )))\n",
    "    color = np.transpose(np.vstack((R, G, B)))\n",
    "\n",
    "    new = o3d.geometry.PointCloud()\n",
    "    new.points = o3d.utility.Vector3dVector(position[:, 0:3])\n",
    "    new.colors = o3d.utility.Vector3dVector(color[:, 0:3])\n",
    "\n",
    "    return new\n",
    "\n",
    "def visualizatio_2D(pcd_combined_down):\n",
    "  twoD_result = transform_3D_to_2D(pcd_combined_down)\n",
    "\n",
    "  print('\\nshowing 2D result')\n",
    "  o3d.visualization.draw_geometries([twoD_result])\n",
    "\n",
    "  return twoD_result\n",
    "\n",
    "twoD_map = visualizatio_2D(pcd_combined_down)"
   ]
  },
  {
   "cell_type": "code",
   "execution_count": 27,
   "metadata": {},
   "outputs": [
    {
     "name": "stdout",
     "output_type": "stream",
     "text": [
      "[0.17254902 0.62745098 0.17254902]\n",
      "[ 0.00176037 -0.05329725  0.11261488]\n",
      "122 51\n"
     ]
    }
   ],
   "source": [
    "points = np.asarray(twoD_map.points)\n",
    "colors = np.asarray(twoD_map.colors)\n",
    "\n",
    "unique = np.unique(colors, axis = 0)\n",
    "tmp = unique[3]\n",
    "# print(unique)\n",
    "print(tmp)\n",
    "\n",
    "id = np.where(colors[:, 0] == tmp[0], colors[:, 1] == tmp[1], colors[:, 2] == tmp[2])\n",
    "real = np.mean(points[id], axis = 0)\n",
    "print(real)\n",
    "\n",
    "x_interval = 0.4/304.\n",
    "y_interval = -0.27/198.\n",
    "\n",
    "pixel_x = (real[0] - (-0.14)) / x_interval + 15.\n",
    "pixel_y = (real[2] - (0.17)) / y_interval + 9.\n",
    "\n",
    "# real[2] = (-0.14 + (tmp_points[j][0] - 15.)*x_interval)*1000./255.*10.\n",
    "# real[0] = (0.17 + (tmp_points[j][1] - 9.)*y_interval)*1000./255.*10.\n",
    "print(int(pixel_x), int(pixel_y))"
   ]
  },
  {
   "cell_type": "code",
   "execution_count": 19,
   "metadata": {},
   "outputs": [
    {
     "name": "stdout",
     "output_type": "stream",
     "text": [
      "(657719, 3)\n",
      "(657721, 3)\n",
      "(657722, 3)\n"
     ]
    },
    {
     "data": {
      "image/png": "[encoded data removed]",
      "text/plain": [
       "<Figure size 432x288 with 1 Axes>"
      ]
     },
     "metadata": {
      "needs_background": "light"
     },
     "output_type": "display_data"
    }
   ],
   "source": [
    "points = np.asarray(twoD_map.points)\n",
    "print(points.shape)\n",
    "tmp = np.array([[0.17, 0, -0.14],\n",
    "                 [-0.1, 0, 0.26]])\n",
    "points = np.vstack((points, tmp))\n",
    "print(points.shape)\n",
    "\n",
    "points = np.vstack((points, real))\n",
    "print(points.shape)\n",
    "\n",
    "colors = ['k'] * points.shape[0]\n",
    "colors[points.shape[0]-1] = 'r'\n",
    "\n",
    "plt.axis('off')\n",
    "plt.scatter(points[:, 2]*1000./255.*10.,  points[:, 0]*1000./255.*10, s = 100, marker = '.', c = colors)\n",
    "plt.savefig('./RRT/map.png', bbox_inches = 'tight', pad_inches = 0)\n",
    "#plt.show()"
   ]
  },
  {
   "cell_type": "code",
   "execution_count": 20,
   "metadata": {},
   "outputs": [
    {
     "name": "stdout",
     "output_type": "stream",
     "text": [
      "-0.14\n",
      "0.26\n"
     ]
    }
   ],
   "source": [
    "print(np.min(points[:, 2]))\n",
    "print(np.max(points[:, 2]))"
   ]
  },
  {
   "cell_type": "code",
   "execution_count": 21,
   "metadata": {},
   "outputs": [
    {
     "name": "stdout",
     "output_type": "stream",
     "text": [
      "-0.1\n",
      "0.17\n"
     ]
    }
   ],
   "source": [
    "print(np.min(points[:, 0]))\n",
    "print(np.max(points[:, 0]))"
   ]
  }
 ],
 "metadata": {
  "interpreter": {
   "hash": "f35fec33e616dc45e157199905f7001a04c30c243171be038b6648af2fd5580d"
  },
  "kernelspec": {
   "display_name": "Python 3.6.13 64-bit ('habitat': conda)",
   "name": "python3"
  },
  "language_info": {
   "codemirror_mode": {
    "name": "ipython",
    "version": 3
   },
   "file_extension": ".py",
   "mimetype": "text/x-python",
   "name": "python",
   "nbconvert_exporter": "python",
   "pygments_lexer": "ipython3",
   "version": "3.6.13"
  },
  "orig_nbformat": 4
 },
 "nbformat": 4,
 "nbformat_minor": 2
}
